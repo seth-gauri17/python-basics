{
  "nbformat": 4,
  "nbformat_minor": 0,
  "metadata": {
    "colab": {
      "provenance": [],
      "authorship_tag": "ABX9TyOU1YeTR2WURUXqQXwdXYDR",
      "include_colab_link": true
    },
    "kernelspec": {
      "name": "python3",
      "display_name": "Python 3"
    },
    "language_info": {
      "name": "python"
    }
  },
  "cells": [
    {
      "cell_type": "markdown",
      "metadata": {
        "id": "view-in-github",
        "colab_type": "text"
      },
      "source": [
        "<a href=\"https://colab.research.google.com/github/seth-gauri17/python-basics/blob/main/Assignment2.ipynb\" target=\"_parent\"><img src=\"https://colab.research.google.com/assets/colab-badge.svg\" alt=\"Open In Colab\"/></a>"
      ]
    },
    {
      "cell_type": "code",
      "execution_count": null,
      "metadata": {
        "id": "8WAEzObMWouV"
      },
      "outputs": [],
      "source": [
        "#1  Write a code to create a string with your name and print it?\n",
        "\n",
        "name = \"Gauri Seth\"\n",
        "print (name)\n",
        "\n",
        "Output : Gauri Seth\n"
      ]
    },
    {
      "cell_type": "code",
      "source": [
        "#2  Write a code to find the length of the string \"Hello World\"\n",
        "  str = \"Hello world\"\n",
        "  print (len(str))\n",
        "\n",
        "  Output : 11"
      ],
      "metadata": {
        "id": "bOjlycXmWrFN"
      },
      "execution_count": null,
      "outputs": []
    },
    {
      "cell_type": "code",
      "source": [
        "#3  Write a code to slice the first 3 characters from the string \"Python Programming\"?\n",
        "\n",
        "text = \"Python Programming\"\n",
        "sliced = text[: 3]\n",
        "print (sliced)\n",
        "\n",
        "Output : Pyt"
      ],
      "metadata": {
        "id": "gjJDihWGYRs7"
      },
      "execution_count": null,
      "outputs": []
    },
    {
      "cell_type": "code",
      "source": [
        "#4  Write a code to convert the string \"hello\" to uppercase?\n",
        "\n",
        "text = \"hello\"\n",
        "uppercase_text = text.upper()\n",
        "print (uppercase_text)\n",
        "\n",
        "Output : HELLO\n"
      ],
      "metadata": {
        "id": "3ew4IWR4Yxb5"
      },
      "execution_count": null,
      "outputs": []
    },
    {
      "cell_type": "code",
      "source": [
        "#5  Write a code to replace the word \"apple\" with \"orange\" in the string \"I like apple\"?\n",
        "\n",
        "str = \"I like an apple\"\n",
        "replace_str = str.replace(\"apple\", \"orange\")\n",
        "print(replace_str)\n",
        "\n",
        "Output : I like an orange"
      ],
      "metadata": {
        "id": "XQc39UNsZWTQ"
      },
      "execution_count": null,
      "outputs": []
    },
    {
      "cell_type": "code",
      "source": [
        "#6  Write a code to create a list with numbers 1 to 5 and print it?\n",
        "\n",
        "num = [1, 2, 3, 4, 5]\n",
        "print (num)\n",
        "\n",
        "Output : [1, 2, 3, 4, 5]"
      ],
      "metadata": {
        "id": "8ahPJ8MYaWFq"
      },
      "execution_count": null,
      "outputs": []
    },
    {
      "cell_type": "code",
      "source": [],
      "metadata": {
        "id": "PBKgp9bBc8GE"
      },
      "execution_count": null,
      "outputs": []
    },
    {
      "cell_type": "code",
      "source": [
        "#7  Write a code to append the number 10 to the list [1, 2, 3, 4]?\n",
        "\n",
        "num = [1, 2, 3, 4]\n",
        "num.append (10)\n",
        "print (num)\n",
        "\n",
        "Output : [1, 2, 3, 4, 10]\n"
      ],
      "metadata": {
        "id": "zXLayFatazd7"
      },
      "execution_count": null,
      "outputs": []
    },
    {
      "cell_type": "code",
      "source": [
        "#8  Write a code to remove the number 3 from the list [1, 2, 3, 4, 5]?\n",
        "\n",
        "num = [1, 2, 3, 4, 5]\n",
        "num.remove (3)\n",
        "print (num)\n",
        "\n",
        "Output : [1, 2, 4, 5]\n"
      ],
      "metadata": {
        "id": "EDIB-c5fb__u"
      },
      "execution_count": null,
      "outputs": []
    },
    {
      "cell_type": "code",
      "source": [
        "#9 Write a code to access the second element in the list ['a', 'b', 'c', 'd']?\n",
        "\n",
        "letters = ['a', 'b', 'c', 'd']\n",
        "second_element = letters[1]\n",
        "print (second_element)\n",
        "\n",
        "Output : b"
      ],
      "metadata": {
        "id": "4rhMxfDecbrW"
      },
      "execution_count": null,
      "outputs": []
    },
    {
      "cell_type": "code",
      "source": [
        "#10 Write a code to reverse the list [10, 20, 30, 40, 50]?\n",
        "\n",
        "numbers = [10, 20, 30, 40, 50]\n",
        "numbers.reverse()\n",
        "print (numbers)\n",
        "\n",
        "Output : [50, 40, 30, 20, 10]"
      ],
      "metadata": {
        "id": "lUhkHkzvdg0E"
      },
      "execution_count": null,
      "outputs": []
    },
    {
      "cell_type": "code",
      "source": [
        "#11 Write a code to create a tuple with the elements 100, 200, 300 and print it.?\n",
        "\n",
        "my_tup = (100, 200, 300)\n",
        "print (my_tup)\n",
        "\n",
        "Output : (100, 200, 300)"
      ],
      "metadata": {
        "id": "nG1XbwXxfZ9E"
      },
      "execution_count": null,
      "outputs": []
    },
    {
      "cell_type": "code",
      "source": [
        "#12 Write a code to access the second-to-last element of the tuple ('red', 'green', 'blue', 'yellow')?\n",
        "\n",
        "colours = ('red', 'green', 'blue', 'yellow')\n",
        "second_last = colours[-2]\n",
        "print (second_last)\n",
        "\n",
        "Output : blue"
      ],
      "metadata": {
        "id": "jTsGbgtGgGzW"
      },
      "execution_count": null,
      "outputs": []
    },
    {
      "cell_type": "code",
      "source": [
        "#13  Write a code to find the minimum number in the tuple (10, 20, 5, 15)?\n",
        "\n",
        "numbers = (10, 20, 5, 15)\n",
        "min_value = min(numbers)\n",
        "print(min_value)\n",
        "\n",
        "Output : 5"
      ],
      "metadata": {
        "id": "73HlpnY2hD2v"
      },
      "execution_count": null,
      "outputs": []
    },
    {
      "cell_type": "code",
      "source": [
        "#14 Write a code to find the index of the element \"cat\" in the tuple ('dog', 'cat', 'rabbit').\n",
        "\n",
        "\n",
        "animals = ('dog', 'cat', 'rabbit')\n",
        "index_of_cat = animals.index('cat')\n",
        "print(index_of_cat)\n",
        "\n",
        "Output : 1"
      ],
      "metadata": {
        "id": "TVkjytsNhnpU"
      },
      "execution_count": null,
      "outputs": []
    },
    {
      "cell_type": "code",
      "source": [
        "#15  Write a code to create a tuple containing three different fruits and check if \"kiwi\" is in it.?\n",
        "\n",
        "fruits = (\"apple\", \"banana\", \"kiwi\", \"orange\")\n",
        "if \"kiwi\" in fruits:\n",
        "    print (\"kiwi is in the tuple\")\n",
        "else:\n",
        "    print (\"kiwi is not in the tuple\")\n",
        "\n",
        "Output : kiwi is in the tuple\n"
      ],
      "metadata": {
        "id": "X2ZeCwGUiMA4"
      },
      "execution_count": null,
      "outputs": []
    },
    {
      "cell_type": "code",
      "source": [
        "#16 Write a code to create a set with the elements 'a', 'b', 'c' and print it.?\n",
        "\n",
        "set = {'a', 'b', 'c'}\n",
        "print (set)\n",
        "\n",
        "Output : {'a', 'c', 'b'}"
      ],
      "metadata": {
        "id": "_Q-_BkjqjC3L"
      },
      "execution_count": null,
      "outputs": []
    },
    {
      "cell_type": "code",
      "source": [
        "#17  Write a code to clear all elements from the set {1, 2, 3, 4, 5}.?\n",
        "\n",
        "numbers = {1, 2, 3, 4, 5}\n",
        "numbers.clear()\n",
        "print (numbers)\n",
        "\n",
        "Output : set()\n"
      ],
      "metadata": {
        "id": "SnKw8FfHjabI"
      },
      "execution_count": null,
      "outputs": []
    },
    {
      "cell_type": "code",
      "source": [
        "#18 Write a code to remove the element 4 from the set {1, 2, 3, 4}?\n",
        "\n",
        "numbers = {1, 2, 3, 4}\n",
        "numbers.remove(4)\n",
        "print (numbers\n",
        "\n",
        "Output : {1, 2, 3}\n"
      ],
      "metadata": {
        "id": "mX2PiYqCj2Zo"
      },
      "execution_count": null,
      "outputs": []
    },
    {
      "cell_type": "code",
      "source": [
        "#19  Write a code to find the union of two sets {1, 2, 3} and {3, 4, 5}.?\n",
        "\n",
        "num1= {1, 2, 3}\n",
        "num2 = {3, 4, 5}\n",
        "\n",
        "union_num = num1.union(num2)\n",
        "print (union_num)\n",
        "\n",
        "Output : {1, 2, 3, 4, 5}\n"
      ],
      "metadata": {
        "id": "Dgku-Cw7kPGL"
      },
      "execution_count": null,
      "outputs": []
    },
    {
      "cell_type": "code",
      "source": [
        "#20 Write a code to find the intersection of two sets {1, 2, 3} and {2, 3, 4}.\n",
        "\n",
        "num1= {1, 2, 3}\n",
        "num2 = {3, 4, 5}\n",
        "\n",
        "intersection_num = num1.intersection(num2)\n",
        "print (intersection_num)\n",
        "\n",
        "Output : {3}"
      ],
      "metadata": {
        "id": "xtbXCdmWlGQx"
      },
      "execution_count": null,
      "outputs": []
    },
    {
      "cell_type": "code",
      "source": [
        "#21 Write a code to create a dictionary with the keys \"name\", \"age\", and \"city\", and print it.\n",
        "\n",
        "person = {\n",
        "    \"name\" : \"Gauri\",\n",
        "    \"age\" : \"36\",\n",
        "    \"city\" : \"Pune\"\n",
        "}\n",
        "\n",
        "print (person)\n",
        "\n",
        "Output : {'name': 'Gauri', 'age': '36', 'city': 'Pune'}"
      ],
      "metadata": {
        "id": "8OW7ubHOlv49"
      },
      "execution_count": null,
      "outputs": []
    },
    {
      "cell_type": "code",
      "source": [
        "#22  Write a code to add a new key-value pair \"country\": \"USA\" to the dictionary {'name': 'John', 'age': 25}.\n",
        "\n",
        "person = {\n",
        "    \"name\" : \"John\",\n",
        "    \"age\" : \"25\"\n",
        "}\n",
        "person[\"country\"] = \"USA\"\n",
        "\n",
        "print (person)\n",
        "\n",
        "Output : {'name': 'John', 'age': '25', 'country': 'USA'}\n"
      ],
      "metadata": {
        "id": "zTzyliTPmqHG"
      },
      "execution_count": null,
      "outputs": []
    },
    {
      "cell_type": "code",
      "source": [
        "#23 Write a code to access the value associated with the key \"name\" in the dictionary {'name': 'Alice', 'age': 30}.?\n",
        "\n",
        "person = {\n",
        "    \"name\" : \"Alice\",\n",
        "    \"age\" : \"30\"\n",
        "}\n",
        "name_value = person[\"name\"]\n",
        "\n",
        "print (name_value)\n",
        "\n",
        "Output : Alice\n"
      ],
      "metadata": {
        "id": "oGdMH2T4nNcA"
      },
      "execution_count": null,
      "outputs": []
    },
    {
      "cell_type": "code",
      "source": [
        "#24 Write a code to remove the key \"age\" from the dictionary {'name': 'Bob', 'age': 22, 'city': 'New York'}.\n",
        "\n",
        "person = {\n",
        "    \"name\" : \"Bob\",\n",
        "    \"age\" : \"22\",\n",
        "    \"city\" : \"New York\"\n",
        "}\n",
        "del person[\"age\"]\n",
        "\n",
        "print (person)\n",
        "\n",
        "Output : {'name': 'Bob', 'city': 'New York'}\n"
      ],
      "metadata": {
        "id": "OTVsusGunvDr"
      },
      "execution_count": null,
      "outputs": []
    },
    {
      "cell_type": "code",
      "source": [
        "#25  Write a code to check if the key \"city\" exists in the dictionary {'name': 'Alice', 'city': 'Paris'}.\n",
        "\n",
        "person = {\n",
        "    \"name\": \"Alice\",\n",
        "    \"city\": \"Paris\"\n",
        "}\n",
        "\n",
        "if \"city\" in person:\n",
        "    print('The key \"city\" exists in the dictionary.')\n",
        "else:\n",
        "    print('The key \"city\" does not exist in the dictionary.')\n",
        "\n",
        "Output : The key \"city\" exists in the dictionary.\n"
      ],
      "metadata": {
        "id": "jeqR5_hRod8T"
      },
      "execution_count": null,
      "outputs": []
    },
    {
      "cell_type": "code",
      "source": [
        "#26  Write a code to create a list, a tuple, and a dictionary, and print them all.\n",
        "\n",
        "my_list = [1, 2, 3, 4, 5]\n",
        "my_tuple = ('apple', 'banana', 'orange', 'mango')\n",
        "my_dict = {'name' : 'Alice', 'age' : '30', 'city' : 'Paris'}\n",
        "\n",
        "print (\"List\", my_list)\n",
        "print (\"Tuple\", my_tuple)\n",
        "print (\"Dictionary\", my_dict)\n",
        "\n",
        "Output : List [1, 2, 3, 4, 5]\n",
        "         Tuple ('apple', 'banana', 'orange', 'mango')\n",
        "         Dictionary {'name': 'Alice', 'age': '30', 'city': 'Paris'}"
      ],
      "metadata": {
        "id": "A_H-lzhlqNAQ"
      },
      "execution_count": null,
      "outputs": []
    },
    {
      "cell_type": "code",
      "source": [
        "#27 Write a code to create a list of 5 random numbers between 1 and 100, sort it in ascending order, and print the\n",
        "result.(replaced)?\n",
        "\n",
        "random_numbers = [random.randint(1, 100) for _ in range(5)]\n",
        "random_numbers.sort()\n",
        "print(random_numbers)\n",
        "\n",
        "Output : [12, 27, 45, 78, 91]\n"
      ],
      "metadata": {
        "id": "kTLSITWhrciM"
      },
      "execution_count": null,
      "outputs": []
    },
    {
      "cell_type": "code",
      "source": [
        "#28  Write a code to create a list with strings and print the element at the third index.\n",
        "\n",
        "my_list = [\"apple\", \"banana\", \"cherry\", \"date\", \"strawbery\"]\n",
        "print (my_list[3])\n",
        "\n",
        "\n",
        "Output : date"
      ],
      "metadata": {
        "id": "6BZL2eLkt0Qy"
      },
      "execution_count": null,
      "outputs": []
    },
    {
      "cell_type": "code",
      "source": [
        "#29 Write a code to combine two dictionaries into one and print the result.\n",
        "\n",
        "dict1 = {'name' : 'Alice', 'age' : '30'}\n",
        "dict2 = {'city' : 'USA', 'proffesion' : 'Engineer'}\n",
        "\n",
        "combined_dict = {**dict1, **dict2}\n",
        "\n",
        "print (combined_dict)\n",
        "\n",
        "\n",
        "Output : {'name': 'Alice', 'age': '30', 'city': 'USA', 'proffesion': 'Engineer'}"
      ],
      "metadata": {
        "id": "4-viHQDRuU0k"
      },
      "execution_count": null,
      "outputs": []
    },
    {
      "cell_type": "code",
      "source": [
        "#30 Write a code to convert a list of strings into a set.\n",
        "\n",
        "string_list = [\"apple\", \"banana\", \"cherry\", \"apple\"]\n",
        "string_set = set(string_list)\n",
        "print (string_set)\n",
        "\n",
        "Output : {'banana', 'cherry', 'apple'}\n"
      ],
      "metadata": {
        "id": "iRmpAnJzvODD"
      },
      "execution_count": null,
      "outputs": []
    }
  ]
}